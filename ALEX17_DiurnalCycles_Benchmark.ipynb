{
 "cells": [
  {
   "cell_type": "markdown",
   "metadata": {},
   "source": [
    "# ALEX17 Diurnal Cycles Benchmark: A Large Domain In Complex Terrain\n",
    "## Introduction\n",
    "This is the model evaluation notebook of the ALEX17 benchmark. A guide for participants can be found [here](https://thewindvaneblog.com/alex17-diurnal-cycles-benchmark-a-large-domain-in-complex-terrain-b5029e94485)."
   ]
  },
  {
   "cell_type": "markdown",
   "metadata": {},
   "source": [
    "## Load libraries"
   ]
  },
  {
   "cell_type": "code",
   "execution_count": 1,
   "metadata": {},
   "outputs": [],
   "source": [
    "%matplotlib inline\n",
    "import sys\n",
    "sys.path.append('../')\n",
    "import warnings\n",
    "\n",
    "from lib.alex17_functions import *  \n",
    "from lib.nc_read_functions import *  \n",
    "from scipy import interpolate\n",
    "from IPython.display import Markdown, display\n",
    "\n",
    "%load_ext autoreload\n",
    "%autoreload 2"
   ]
  },
  {
   "cell_type": "code",
   "execution_count": 2,
   "metadata": {},
   "outputs": [
    {
     "data": {
      "application/javascript": [
       "IPython.OutputArea.prototype._should_scroll = function(lines) {\n",
       "    return false\n",
       "}\n"
      ],
      "text/plain": [
       "<IPython.core.display.Javascript object>"
      ]
     },
     "metadata": {},
     "output_type": "display_data"
    }
   ],
   "source": [
    "%%javascript \n",
    "IPython.OutputArea.prototype._should_scroll = function(lines) {\n",
    "    return false\n",
    "}"
   ]
  },
  {
   "cell_type": "markdown",
   "metadata": {},
   "source": [
    "## Participants"
   ]
  },
  {
   "cell_type": "code",
   "execution_count": 5,
   "metadata": {},
   "outputs": [],
   "source": [
    "# Read file with simulation descriptions\n",
    "sims = pd.read_csv('./outputs/alex17_sims.csv')\n",
    "n_sim = len(sims)"
   ]
  },
  {
   "cell_type": "markdown",
   "metadata": {},
   "source": [
    "## Input Data\n",
    "### Elevation Map and Instrument Layout"
   ]
  },
  {
   "cell_type": "code",
   "execution_count": 9,
   "metadata": {},
   "outputs": [],
   "source": [
    "# Site\n",
    "siteID = 'alex17'\n",
    "\n",
    "# Evaluation period\n",
    "#datefrom = time_stamp(2018,9,30,0,0,0)    \n",
    "#dateto = time_stamp(2018,10,4,0,0,0)   \n",
    "\n",
    "# Topography\n",
    "#elevation_map = # read nc file in UTM coordinates\n",
    "\n",
    "# Mast positions\n",
    "mast = pd.read_csv('./inputs/validation_profiles_XYZ.csv') # read {x,y,z} coordinates of target masts\n",
    "\n",
    "# Z-transect\n",
    "Z_transect = pd.read_csv('./inputs/validation_ZTransect_XYZ.csv') # read {x,y,x} coordinates of Z-transect \n",
    "\n",
    "# Plot base elevation map and validation sites\n",
    "#basemap_plot(elevation_map, mast, Z_transect)"
   ]
  },
  {
   "cell_type": "markdown",
   "metadata": {},
   "source": [
    "### Mesoscale Input Data\n",
    "Mesoscale simulations have been produced adopting most of the WRF settings that were used in the production run of the New European Wind Atlas (NEWA). Three one-way nested domains of 27, 9 and 3 km resolution are configured centred at the wind farm centroid. The vertical grid has 61 terrain-following (sigma) levels, with 10 levels covering the first 200 meters, more specifically at: 6, 22, 40, 56, 73, 90, 113, 140, 179 and 205 meters. High resolution topography (SRTM 90m) and updated land use categories (Corine Land Cover 2018), together with the Noah land-surface model are used to define the boundary conditions at the surface. The physical parameterizations are: Mellor–Yamada–Nakanishi Niino 2.5-level planetary boundary-layer scheme (MYNN), WRF Single-Moment 5-class microphysics scheme, the Rapid Radiative Transfer Model for GCMs shortwave and longwave radiation schemes and the Kain-Fritsch cumulus scheme in the outermost domains 1 and 2. The simulation is driven by input data from ERA-5 in blocks of 5 days with additional spin-up time of 24 hours.   \n",
    "\n",
    "From the 3-km domain we extract output data that will be used as reference in validation plots. This constitute the baseline simulation that we try to improve with microscale modeling. "
   ]
  },
  {
   "cell_type": "code",
   "execution_count": null,
   "metadata": {},
   "outputs": [],
   "source": [
    "# Load WRFref output data\n",
    "#f_zt = './outpus/WRFref_zt.nc' # zt profiles\n",
    "#U_ref_zt, V_ref_zt,S_ref_zt, WD_ref_zt, Th_ref_zt, TKE_ref_zt = read_input(f_zt,datefrom,dateto,['U','V','S','WD','Th','TKE'])\n",
    "\n",
    "#f_hxyt = './outpus/WRFref_hxyt.nc' # horizontal planes\n",
    "#U_ref_hxyt, V_ref_hxyt,S_ref_hxyt, WD_ref_hxyt, Th_ref_hxyt, TKE_ref_hxyt = read_input(f_hxyt,datefrom,dateto,['U','V','S','WD','Th','TKE'])\n",
    "\n",
    "#f_yzt = './outpus/WRFref_yzt.nc' # horizontal planes\n",
    "#U_ref_yzt, V_ref_yzt,S_ref_yzt, WD_ref_yzt, Th_ref_yzt, TKE_ref_yzt = read_input(f_yzt,datefrom,dateto,['U','V','S','WD','Th','TKE'])"
   ]
  },
  {
   "cell_type": "markdown",
   "metadata": {},
   "source": [
    "## Validation Data"
   ]
  },
  {
   "cell_type": "code",
   "execution_count": null,
   "metadata": {},
   "outputs": [],
   "source": [
    "# Mast data\n",
    "#f_zt = './observations/ALEX17_zt.nc'\n",
    "#U_obs_zt, V_obs_zt,S_obs_zt, WD_obs_zt, Th_obs_zt, TKE_obs_zt = read_input(f_zt,datefrom,dateto,['U','V','S','WD','Th','TKE'])\n",
    "\n",
    "# Z-Transect data\n",
    "#f_Zt = './observations/ALEX17_Zt.nc'\n",
    "\n"
   ]
  },
  {
   "cell_type": "code",
   "execution_count": 46,
   "metadata": {},
   "outputs": [],
   "source": [
    "f = netCDF4.Dataset('./ALEX17_diurnalcycles_inputs/Nwinds_cup_masts.nc','r')\n",
    "times = f.variables['Time'][:]\n",
    "times = netCDF4.num2date(times,f.variables['Time'].units)\n",
    "#mask = np.logical_and(times >= datefrom, times < dateto)\n",
    "#idates = np.where(mask)[0]\n",
    "#times= times[mask]\n",
    "\n",
    "#U = pd.DataFrame(f.variables['Mast_ID'][idates].data, index = times)\n",
    "mast_ID = f.variables['Mast ID'][:]\n",
    "mast_heights = f.variables['Height'][:]\n",
    "mast_S = f.variables['wind_speed'][:]\n",
    "mast_S_std = f.variables['wind_speed_std'][:]\n",
    "mast_WD = f.variables['wind_direction'][:]"
   ]
  },
  {
   "cell_type": "code",
   "execution_count": 52,
   "metadata": {},
   "outputs": [
    {
     "data": {
      "text/plain": [
       "(2, 5, 576)"
      ]
     },
     "execution_count": 52,
     "metadata": {},
     "output_type": "execute_result"
    }
   ],
   "source": [
    "mast_S.shape"
   ]
  },
  {
   "cell_type": "code",
   "execution_count": 45,
   "metadata": {},
   "outputs": [
    {
     "data": {
      "text/plain": [
       "<class 'netCDF4._netCDF4.Dataset'>\n",
       "root group (NETCDF4 data model, file format HDF5):\n",
       "    title: ALEX17 N-winds Cup Masts\n",
       "    long_title: ALEX17 Diurnal Cycle (N-winds) Benchmark Cup Masts Dataset\n",
       "    comments: Contact: paas@dtu.dk\n",
       "    source: Experimental data\n",
       "    CreationDate: October 2019\n",
       "    CreatedBy: Pedro Santos\n",
       "    start_time: 30-Sep-2018 00:00\n",
       "    end_time: 03-Oct-2018 23:50\n",
       "    dimensions(sizes): Time(576), Height(5), Mast_ID(2)\n",
       "    variables(dimensions): float64 \u001b[4mTime\u001b[0m(Time), float64 \u001b[4mHeight\u001b[0m(Height), float64 \u001b[4mMast ID\u001b[0m(Mast_ID), float64 \u001b[4mwind_speed\u001b[0m(Mast_ID,Height,Time), float64 \u001b[4mwind_direction\u001b[0m(Mast_ID,Height,Time), float64 \u001b[4mwind_speed_std\u001b[0m(Mast_ID,Height,Time)\n",
       "    groups: "
      ]
     },
     "execution_count": 45,
     "metadata": {},
     "output_type": "execute_result"
    }
   ],
   "source": [
    "f"
   ]
  },
  {
   "cell_type": "markdown",
   "metadata": {},
   "source": [
    "## Simulation Data\n",
    "We load the simulations defined in *sims* table.  "
   ]
  },
  {
   "cell_type": "code",
   "execution_count": null,
   "metadata": {},
   "outputs": [],
   "source": [
    "U_zt = []; V_zt = []; S_zt = []; WD_zt = []; Th_zt = []; TKE_zt = []\n",
    "U_hxyt = []; V_hxyt = []; S_hxyt = []; WD_hxyt = []; Th_hxyt = []; TKE_hxyt = []\n",
    "U_yzt = []; V_yzt = []; S_yzt = []; WD_yzt = []; Th_yzt = []; TKE_yzt = []\n",
    "\n",
    "for i_sim in range(1,n_sim): # i_sim = 0 is WRFref\n",
    "    file_name = './outputs/'+ sims[\"ID\"][i_sim] +'.nc'\n",
    "    f_zt = './outputs/'+ sims[\"ID\"][i_sim] +'_zt.nc' # zt profiles\n",
    "    U, V, S, WD, Th, TKE = read_input(f_zt,datefrom,dateto,['U','V','S','WD','Th','TKE'])\n",
    "    U_zt.append(U); V_zt.append(V); S_zt.append(S); WD_zt.append(WD); Th_zt.append(Th); TKE_zt.append(TKE)\n",
    "\n",
    "    f_hxyt = './outputs/'+ sims[\"ID\"][i_sim] +'_hxyt.nc' # horizontal planes\n",
    "    U, V, S, WD, Th, TKE = read_input(f_hxyt,datefrom,dateto,['U','V','S','WD','Th','TKE'])\n",
    "    U_hxyt.append(U); V_hxyt.append(V); S_hxyt.append(S); WD_hxyt.append(WD); Th_hxyt.append(Th); TKE_hxyt.append(TKE)\n",
    "\n",
    "    f_yzt = './outputs/'+ sims[\"ID\"][i_sim] +'_yzt.nc' # horizontal planes\n",
    "    U, V, S, WD, Th, TKE = read_input(f_yzt,datefrom,dateto,['U','V','S','WD','Th','TKE'])\n",
    "    U_yzt.append(U); V_zyt.append(V); S_zyt.append(S); WD_zyt.append(WD); Th_zyt.append(Th); TKE_zyt.append(TKE)\n"
   ]
  },
  {
   "cell_type": "markdown",
   "metadata": {},
   "source": [
    "## Compute Quantities of Interest and Metrics"
   ]
  },
  {
   "cell_type": "code",
   "execution_count": null,
   "metadata": {},
   "outputs": [],
   "source": []
  },
  {
   "cell_type": "markdown",
   "metadata": {},
   "source": [
    "## Results"
   ]
  }
 ],
 "metadata": {
  "kernelspec": {
   "display_name": "Python 3",
   "language": "python",
   "name": "python3"
  },
  "language_info": {
   "codemirror_mode": {
    "name": "ipython",
    "version": 3
   },
   "file_extension": ".py",
   "mimetype": "text/x-python",
   "name": "python",
   "nbconvert_exporter": "python",
   "pygments_lexer": "ipython3",
   "version": "3.7.2"
  }
 },
 "nbformat": 4,
 "nbformat_minor": 2
}
