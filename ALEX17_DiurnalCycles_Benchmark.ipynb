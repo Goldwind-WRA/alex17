{
 "cells": [
  {
   "cell_type": "markdown",
   "metadata": {},
   "source": [
    "# ALEX17 Diurnal Cycles Benchmark: A Large Domain In Complex Terrain\n",
    "## Introduction\n",
    "This is the model evaluation notebook of the ALEX17 benchmark. A guide for participants can be found [here](https://thewindvaneblog.com/alex17-diurnal-cycles-benchmark-a-large-domain-in-complex-terrain-b5029e94485)."
   ]
  },
  {
   "cell_type": "markdown",
   "metadata": {},
   "source": [
    "## Load libraries"
   ]
  },
  {
   "cell_type": "code",
   "execution_count": 1,
   "metadata": {},
   "outputs": [
    {
     "ename": "IndentationError",
     "evalue": "expected an indented block (alex17_functions.py, line 26)",
     "output_type": "error",
     "traceback": [
      "Traceback \u001b[0;36m(most recent call last)\u001b[0m:\n",
      "  File \u001b[1;32m\"/home/usuario/anaconda2/lib/python3.7/site-packages/IPython/core/interactiveshell.py\"\u001b[0m, line \u001b[1;32m3291\u001b[0m, in \u001b[1;35mrun_code\u001b[0m\n    exec(code_obj, self.user_global_ns, self.user_ns)\n",
      "\u001b[0;36m  File \u001b[0;32m\"<ipython-input-1-569c54736bc9>\"\u001b[0;36m, line \u001b[0;32m6\u001b[0;36m, in \u001b[0;35m<module>\u001b[0;36m\u001b[0m\n\u001b[0;31m    from lib.alex17_functions import *\u001b[0m\n",
      "\u001b[0;36m  File \u001b[0;32m\"/home/usuario/work/alex17/lib/alex17_functions.py\"\u001b[0;36m, line \u001b[0;32m26\u001b[0m\n\u001b[0;31m    return M\u001b[0m\n\u001b[0m         ^\u001b[0m\n\u001b[0;31mIndentationError\u001b[0m\u001b[0;31m:\u001b[0m expected an indented block\n"
     ]
    }
   ],
   "source": [
    "%matplotlib inline\n",
    "import sys\n",
    "sys.path.append('../')\n",
    "import warnings\n",
    "\n",
    "from lib.alex17_functions import *  \n",
    "from lib.nc_read_functions import *  \n",
    "from IPython.display import Markdown, display\n",
    "import ipywidgets as widgets\n",
    "\n",
    "%load_ext autoreload\n",
    "%autoreload 2"
   ]
  },
  {
   "cell_type": "code",
   "execution_count": null,
   "metadata": {},
   "outputs": [],
   "source": [
    "%%javascript \n",
    "IPython.OutputArea.prototype._should_scroll = function(lines) {\n",
    "    return false\n",
    "}"
   ]
  },
  {
   "cell_type": "markdown",
   "metadata": {},
   "source": [
    "## Participants"
   ]
  },
  {
   "cell_type": "code",
   "execution_count": null,
   "metadata": {},
   "outputs": [],
   "source": [
    "# Read file with simulation descriptions\n",
    "sims = pd.read_csv('./outputs/alex17_sims.csv')\n",
    "n_sim = len(sims)"
   ]
  },
  {
   "cell_type": "markdown",
   "metadata": {},
   "source": [
    "## Input Data\n",
    "### Elevation Map and Instrument Layout"
   ]
  },
  {
   "cell_type": "code",
   "execution_count": null,
   "metadata": {},
   "outputs": [],
   "source": [
    "# Site\n",
    "siteID = 'alex17'\n",
    "\n",
    "# Evaluation period\n",
    "datefrom = datetime.datetime(2018,9,30,0,0,0)    \n",
    "dateto = datetime.datetime(2018,10,4,0,0,0)  \n",
    "\n",
    "# Mast positions\n",
    "masts = pd.read_csv('./inputs/masts.csv') # read {x,y,z} coordinates of target masts\n",
    "masts = masts.drop(masts[masts['Name']=='WLS70'].index)\n",
    "         \n",
    "# Z-transect\n",
    "Ztransect = pd.read_csv('./inputs/Ztransect.csv') # read {x,y,x} coordinates of Z-transect \n",
    "A_ind = Ztransect['Name'].str.contains('A') # Tajonar ridge scan\n",
    "B_ind = Ztransect['Name'].str.contains('B') # Elortz valley scan\n",
    "C_ind = Ztransect['Name'].str.contains('C') # Alaiz ridge scan\n",
    "\n",
    "# Topography\n",
    "topo = rio.open('./inputs/DTM_Alaiz_2m.tif') # read nc file in UTM coordinates\n",
    "box = [612000 , 622000, 4726000, 4736000]    # evaluation area\n",
    "\n",
    "# Define local coordinate system\n",
    "ref = 'M5' # reference site to define origin of coordinate system\n",
    "ref = masts[masts['Name'] == ref][['easting[m]','northing[m]','elevation[m]']].values[0].tolist()\n",
    "masts['x'] = masts['easting[m]'] - ref[0]\n",
    "masts['y'] = masts['northing[m]'] - ref[1]\n",
    "masts['z'] = masts['elevation[m]'] - ref[2]\n",
    "Ztransect['x'] = Ztransect['easting[m]'] - ref[0]\n",
    "Ztransect['y'] = Ztransect['northing[m]'] - ref[1]\n",
    "Ztransect['z'] = Ztransect['elevation[m]'] - ref[2]\n",
    "box_xy = [612000 - ref[0], 622000- ref[0], 4726000 - ref[1], 4736000 - ref[1]]    # evaluation area\n",
    "\n",
    "# Plot elevation map and validation sites\n",
    "fig, (ax1,ax2) = plt.subplots(1,2,figsize = (15,6))\n",
    "basemap = basemap_plot(topo, masts, Ztransect, ref, ax1, coord = 'xy')\n",
    "ax1.set_xlim(box_xy[0:2])\n",
    "ax1.set_ylim(box_xy[2:4])\n",
    "Zprofile = Ztransect_plot(masts, Ztransect, ax2)"
   ]
  },
  {
   "cell_type": "markdown",
   "metadata": {},
   "source": [
    "### Mesoscale Input Data\n",
    "Mesoscale simulations have been produced adopting most of the WRF settings that were used in the production run of the New European Wind Atlas (NEWA). Three one-way nested domains of 27, 9 and 3 km resolution are configured centred at the wind farm centroid. The vertical grid has 61 terrain-following (sigma) levels, with 10 levels covering the first 200 meters, more specifically at: 6, 22, 40, 56, 73, 90, 113, 140, 179 and 205 meters. High resolution topography (SRTM 90m) and updated land use categories (Corine Land Cover 2018), together with the Noah land-surface model are used to define the boundary conditions at the surface. The physical parameterizations are: Mellor–Yamada–Nakanishi Niino 2.5-level planetary boundary-layer scheme (MYNN), WRF Single-Moment 5-class microphysics scheme, the Rapid Radiative Transfer Model for GCMs shortwave and longwave radiation schemes and the Kain-Fritsch cumulus scheme in the outermost domains 1 and 2. The simulation is driven by input data from ERA-5 in blocks of 5 days with additional spin-up time of 24 hours.   \n",
    "\n",
    "From the 3-km domain we extract output data that will be used as reference in validation plots. This constitute the baseline simulation (*alex17_00a*) that we try to improve with microscale modeling. "
   ]
  },
  {
   "cell_type": "code",
   "execution_count": null,
   "metadata": {},
   "outputs": [],
   "source": [
    "# Load WRFref output data\n",
    "masts_sim = [read_sim('./outputs/alex17_00a_masts.nc')] # mast profiles\n",
    "\n",
    "Ztransect_sim = [read_sim('./outputs/alex17_00a_Ztransect.nc')] # Z_transect\n",
    "\n",
    "box_sim = [read_sim('./outputs/alex17_00a_box.nc')] # horizontal planes \n"
   ]
  },
  {
   "cell_type": "markdown",
   "metadata": {},
   "source": [
    "## Validation Data\n",
    "Three sets of measurements will be used for validation of the submitted results. The meteorological mast measurements are available for the modelers to check and calibrate their results, whereas the lidar measurements will be used for validation after submission (blind test). \n",
    "1. Vertical profiles at *mast* positions.\n",
    "2. Wind vector at 125m a.g.l. along the *Z-transect*.\n",
    "3. Vertical RHI plane across the valley along the *B* segment of the *Z-transect*. The Plane connects WS3 [617846.796; 4732496.246] km and WS5 [617305.590; 4729848.751] km."
   ]
  },
  {
   "cell_type": "code",
   "execution_count": null,
   "metadata": {},
   "outputs": [],
   "source": [
    "# Mast data\n",
    "masts_obs = read_obs('./observations/masts_obs.nc') # mast profiles\n",
    "\n",
    "# Z-Transect data\n",
    "#f_Ztransect = './observations/alex17_Ztransect.nc'\n",
    "\n"
   ]
  },
  {
   "cell_type": "markdown",
   "metadata": {},
   "source": [
    "## Simulation Data\n",
    "We load the simulations defined in *sims* table. Three sets of output data are collected from each simulation: \n",
    "\n",
    "1. *simID_masts.nc*: Vertical profiles extending 1km from the surface at the met mast locations (*inputs/masts.csv* coordinates);\n",
    "2. *simID_Ztransect.nc*: Vertical planes along the Z-transect extending 1 km in the vertical (*inputs/Ztransect.csv* coordinates);\n",
    "3. *simID_box.nc*: Horizontal planes at 125 m and 40 m a.g.l., with horizontal resolution of 100 m, within the “box” [612–622; 4726–4736] km.\n",
    "\n",
    "Output data is provided based on 10-min averages."
   ]
  },
  {
   "cell_type": "code",
   "execution_count": null,
   "metadata": {},
   "outputs": [],
   "source": [
    "for i_sim in range(1,n_sim): # i_sim = 0 was already loaded\n",
    "    masts_sim.append(read_sim('./outputs/'+ sims[\"ID\"][i_sim] +'_masts.nc')) # masts\n",
    "    Ztransect_sim.append(read_sim('./outputs/'+ sims[\"ID\"][i_sim] +'_Ztransect.nc'))  # Z-transect planes\n",
    "    box_sim.append(read_sim('./outputs/'+ sims[\"ID\"][i_sim] +'_box.nc')) # horizontal planes\n"
   ]
  },
  {
   "cell_type": "code",
   "execution_count": null,
   "metadata": {},
   "outputs": [],
   "source": [
    "masts_sim[0]"
   ]
  },
  {
   "cell_type": "markdown",
   "metadata": {},
   "source": [
    "## Compute Quantities of Interest and Metrics"
   ]
  },
  {
   "cell_type": "code",
   "execution_count": null,
   "metadata": {},
   "outputs": [],
   "source": [
    "# turbulence intensity\n",
    "ti = masts_obs.wind_speed_std / masts_obs.wind_speed\n",
    "masts_obs = masts_obs.assign(turbulence_intensity = ti)\n",
    "for i_sim in range(0,n_sim):\n",
    "    try:\n",
    "        masts_sim[i_sim].turbulence_intensity\n",
    "    except AttributeError:\n",
    "        ti = (((2./3.)*masts_sim[i_sim].specific_turbulent_kinetic_energy)**0.5)/masts_sim[i_sim].wind_speed\n",
    "        masts_sim[i_sim] = masts_sim[i_sim].assign(turbulence_intensity = ti)\n",
    "\n",
    "# wind shear \n",
    "alpha = np.log(masts_obs.wind_speed.sel(height = 80)/masts_obs.wind_speed.sel(height = 40))/np.log(80./40.)\n",
    "masts_obs =  masts_obs.assign(wind_shear = alpha)\n",
    "for i_sim in range(0,n_sim):\n",
    "    alpha = np.log(masts_sim[i_sim].wind_speed.interp(height= 80)/masts_sim[i_sim].wind_speed.interp(height= 40))/np.log(80./40.)\n",
    "    masts_sim[i_sim] = masts_sim[i_sim].assign(wind_shear = alpha)\n",
    "\n",
    "# stability\n",
    "zL = masts_obs.height / masts_obs.obukhov_length\n",
    "masts_obs = masts_obs.assign(stability = zL)                            "
   ]
  },
  {
   "cell_type": "markdown",
   "metadata": {},
   "source": [
    "## Results"
   ]
  },
  {
   "cell_type": "code",
   "execution_count": null,
   "metadata": {},
   "outputs": [],
   "source": [
    "events = {'neutral'    :[datetime.datetime(2018,10,1,18,0,0), datetime.datetime(2018,10,1,20,0,0)],\n",
    "          'stable'     :[datetime.datetime(2018,10,2,3,0,0),  datetime.datetime(2018,10,2,5,0,0)], \n",
    "          'unstable'   :[datetime.datetime(2018,10,2,12,0,0), datetime.datetime(2018,10,2,14,0,0)],\n",
    "          'very stable':[datetime.datetime(2018,10,3,4,0,0) , datetime.datetime(2018,10,3,6,0,0)]}"
   ]
  },
  {
   "cell_type": "code",
   "execution_count": null,
   "metadata": {},
   "outputs": [],
   "source": [
    "# Plot time-series \n",
    "mast = 'M7'\n",
    "h = 80\n",
    "\n",
    "ax = mast_sims_vs_obs_timeseries_plot(mast, h, masts_obs, masts_sim, sims, datefrom, dateto, events)"
   ]
  },
  {
   "cell_type": "code",
   "execution_count": null,
   "metadata": {},
   "outputs": [],
   "source": [
    "# MP5 vs M7\n",
    "h = 80.\n",
    "mast = ['MP5','M7']\n",
    "\n",
    "ax = compare_masts_timeseries_plot(mast, h, masts_obs, datefrom, dateto, events)\n",
    "\n",
    "masts_obs_quois = events_qois_vs_masts_table(events,masts_obs,h)\n",
    "masts_obs_quois[mast]"
   ]
  },
  {
   "cell_type": "code",
   "execution_count": null,
   "metadata": {},
   "outputs": [],
   "source": [
    "# Vertical profiles\n",
    "event = 'neutral'\n",
    "ax = masts_sims_vs_obs_profiles_plot(events[event], masts_obs, masts_sim, sims)\n",
    "#widgets.interact(masts_sims_vs_obs_profiles_plot(events[event], masts_obs, masts_sim, sims), event = events)"
   ]
  },
  {
   "cell_type": "code",
   "execution_count": null,
   "metadata": {},
   "outputs": [],
   "source": [
    "# Plot Z-transect\n",
    "h = 125.\n",
    "\n",
    "#ax = Ztransect_sims_vs_obs_plot(t, Ztransect_obs, Ztransect_sim, masts, Ztransect)\n",
    "fig, (ax1,ax2) = plt.subplots(2,1, figsize = (8,6), sharex = True)\n",
    "Zprofile = Ztransect_plot(masts, Ztransect, ax2)\n",
    "ax2.set_title('')\n",
    "#for i_sim in range (0,n_sim):\n",
    "    #Ztransect_sim[i_sim].wind_speed.sel(height = h).plot(x = 'id', label = sims['ID'][i_sim], ax = ax1)\n",
    "#ax1.legend(bbox_to_anchor=(1, 1))\n",
    "masts_inZ = [] # index of Z_transect position nearest to each mast\n",
    "for i, row in masts.iterrows():\n",
    "    d = np.sqrt((Ztransect['x'] - masts['x'][i])**2 + (Ztransect['y'] - masts['y'][i])**2)\n",
    "    masts_inZ.append(d[d == d.min()].index[0])\n",
    "for x in masts_inZ:\n",
    "    ax1.axvline(x, color = 'silver', linestyle = '--', zorder = 0)\n"
   ]
  },
  {
   "cell_type": "code",
   "execution_count": null,
   "metadata": {},
   "outputs": [],
   "source": [
    "# tz contour plot\n",
    "i_sim = 1\n",
    "mast = 'M5'\n",
    "fig, (ax1,ax2) = plt.subplots(1,2,figsize = (15,6))\n",
    "ax1 = masts_sim[i_sim].wind_speed.sel(id = mast).plot(ax = ax1)\n",
    "ax2 = masts_sim[i_sim].air_potential_temperature.sel(id = mast).plot(ax = ax2);"
   ]
  },
  {
   "cell_type": "code",
   "execution_count": null,
   "metadata": {},
   "outputs": [],
   "source": [
    "# xy contour plots\n",
    "i_sim = 1\n",
    "h = 125.\n",
    "t = events['neutral'][0]\n",
    "\n",
    "S = box_sim[i_sim].wind_speed.sel(time = t, height = h)\n",
    "TKE = box_sim[i_sim].specific_turbulent_kinetic_energy.sel(time = t, height = h)\n",
    "\n",
    "oview = topo.overviews(1)[2] # choose overview (0 is largest, -1 is the smallest)\n",
    "basemap = topo.read(1, out_shape=(1, int(topo.height // oview), int(topo.width // oview)))\n",
    "basemap = np.ma.masked_where(basemap == 0 , basemap, copy=True) \n",
    "basemap = np.flipud(basemap)\n",
    "min_E, max_E = topo.bounds.left, topo.bounds.right\n",
    "min_N, max_N = topo.bounds.bottom, topo.bounds.top\n",
    "res = (max_E-min_E)*oview/topo.width\n",
    "X, Y = np.meshgrid(np.arange(min_E + res/2, max_E - res/2, res), np.arange(min_N + res/2, max_N - res/2, res))\n",
    "\n",
    "fig, (ax1,ax2) = plt.subplots(1,2,figsize = (15,6))\n",
    "h_box = S.plot(x = 'easting', y = 'northing', ax = ax1)\n",
    "ctopo = ax1.contour(X,Y,basemap, colors = 'grey', levels = list(range(0, 3000, 100)))\n",
    "ax1.clabel(ctopo, inline=1, fontsize=10, fmt = '%i')\n",
    "ax1.set_xlabel('Easting [m]')\n",
    "ax1.set_ylabel('Northing [m]') \n",
    "\n",
    "h_box = TKE.plot(x = 'easting', y = 'northing', ax = ax2)\n",
    "ctopo = ax2.contour(X,Y,basemap, colors = 'grey', levels = list(range(0, 3000, 100)))\n",
    "ax2.clabel(ctopo, inline=1, fontsize=10, fmt = '%i')\n",
    "ax2.set_xlabel('Easting [m]')\n",
    "ax2.set_ylabel('Northing [m]'); "
   ]
  }
 ],
 "metadata": {
  "kernelspec": {
   "display_name": "Python 3",
   "language": "python",
   "name": "python3"
  },
  "language_info": {
   "codemirror_mode": {
    "name": "ipython",
    "version": 3
   },
   "file_extension": ".py",
   "mimetype": "text/x-python",
   "name": "python",
   "nbconvert_exporter": "python",
   "pygments_lexer": "ipython3",
   "version": "3.7.2"
  }
 },
 "nbformat": 4,
 "nbformat_minor": 2
}
